{
 "cells": [
  {
   "cell_type": "markdown",
   "metadata": {},
   "source": [
    "# Pertemuan 2: Citra Digital, Sampling, dan Kuantisasi <br>"
   ]
  },
  {
   "cell_type": "markdown",
   "metadata": {},
   "source": [
    "1. Pengertian Citra Digital\n",
    "Citra digital adalah representasi visual dari objek atau adegan dalam bentuk data numerik yang disimpan dan ditampilkan pada perangkat elektronik.\n",
    "Citra digital tersusun dari elemen-elemen kecil yang disebut piksel (pixel). Setiap piksel memiliki nilai intensitas atau warna tertentu.\n",
    "Contoh:\n",
    "\n",
    "Gambar yang ditampilkan di monitor komputer, foto yang diambil dengan kamera digital, hasil scan dokumen, dll.\n",
    "2. Representasi Citra Digital\n",
    "Citra digital direpresentasikan sebagai matriks dua dimensi, di mana setiap elemen matriks (piksel) menunjukkan nilai intensitas pada posisi tertentu.\n",
    "Format warna citra:\n",
    "Grayscale: Setiap piksel memiliki nilai intensitas dari 0 (hitam) hingga 255 (putih) untuk citra 8-bit.\n",
    "RGB (Red-Green-Blue): Setiap piksel direpresentasikan oleh tiga nilai (merah, hijau, biru) yang digabungkan untuk membentuk berbagai warna.\n",
    "3. Proses Pengambilan Citra Digital (Sampling dan Kuantisasi)\n",
    "Sampling dan Kuantisasi adalah dua langkah utama dalam konversi citra analog menjadi citra digital.\n",
    "a. Sampling (Penyampelan)\n",
    "Sampling adalah proses mengukur nilai intensitas pada titik-titik diskret dalam gambar.\n",
    "Semakin banyak sampel yang diambil (semakin tinggi resolusi), semakin mendetail citra digital yang dihasilkan.\n",
    "Resolusi gambar adalah jumlah piksel yang digunakan untuk merepresentasikan gambar, biasanya dinyatakan dalam satuan piksel per inci (PPI) atau jumlah piksel dalam lebar dan tinggi gambar (contoh: 1920x1080).\n",
    "Ilustrasi:\n",
    "\n",
    "Jika kita mengambil gambar dengan resolusi rendah (misal 100x100 piksel), detail gambar menjadi buram karena hanya ada sedikit piksel untuk menyusun gambar.\n",
    "Dengan resolusi tinggi (misal 1920x1080), gambar menjadi lebih tajam karena terdapat lebih banyak piksel yang merepresentasikan gambar.\n",
    "b. Kuantisasi\n",
    "Kuantisasi adalah proses membagi rentang nilai intensitas menjadi sejumlah level diskret.\n",
    "Dalam citra grayscale 8-bit, rentang intensitas dibagi menjadi 256 level (dari 0 hingga 255), sehingga setiap piksel memiliki nilai diskret yang menunjukkan derajat kecerahan.\n",
    "Semakin banyak level kuantisasi, semakin baik kualitas citra karena lebih banyak detail intensitas dapat diwakili.\n",
    "Contoh:\n",
    "\n",
    "Citra dengan kuantisasi 1-bit hanya dapat merepresentasikan dua nilai: hitam (0) dan putih (1).\n",
    "Citra dengan kuantisasi 8-bit mampu merepresentasikan 256 nilai intensitas dari hitam hingga putih.\n",
    "4. Efek Sampling dan Kuantisasi Terhadap Kualitas Gambar\n",
    "Sampling yang terlalu rendah menyebabkan citra menjadi kabur atau tidak detail.\n",
    "Kuantisasi yang terlalu rendah menyebabkan citra terlihat bloky atau mengalami \"banding\" karena tidak ada transisi halus antara tingkat intensitas.\n",
    "Oleh karena itu, diperlukan keseimbangan yang tepat antara resolusi (sampling) dan kedalaman warna (kuantisasi) untuk menghasilkan citra yang optimal.\n",
    "5. Aplikasi Sampling dan Kuantisasi dalam Berbagai Bidang\n",
    "Fotografi digital: Menggunakan resolusi tinggi dan kuantisasi warna untuk menghasilkan gambar berkualitas tinggi.\n",
    "Pengolahan citra medis: Menggunakan citra resolusi tinggi untuk memudahkan diagnosis (seperti dalam CT Scan atau MRI).\n",
    "Pengolahan citra satelit: Untuk menganalisis citra bumi dan mendeteksi perubahan lingkungan dari waktu ke waktu.\n",
    "6. Latihan Soal:\n",
    "Soal 1: Jelaskan perbedaan antara resolusi dan kuantisasi dalam citra digital. Berikan contoh bagaimana resolusi rendah dapat memengaruhi kualitas gambar.\n",
    "Soal 2: Sebuah citra memiliki resolusi 300x300 piksel dan menggunakan 256 level kuantisasi. Hitung jumlah bit yang dibutuhkan untuk menyimpan citra ini."
   ]
  },
  {
   "cell_type": "markdown",
   "metadata": {},
   "source": [
    "### Intall Library\n",
    "\n",
    "#### pip install opencv-python\n"
   ]
  },
  {
   "cell_type": "code",
   "execution_count": null,
   "metadata": {},
   "outputs": [],
   "source": [
    "import cv2\n",
    "\n",
    "print(\"berhasil\")\n"
   ]
  },
  {
   "cell_type": "code",
   "execution_count": 57,
   "metadata": {},
   "outputs": [],
   "source": [
    "img = cv2.imread(\"pisang.jpg\")"
   ]
  },
  {
   "cell_type": "code",
   "execution_count": null,
   "metadata": {},
   "outputs": [],
   "source": [
    "img.shape"
   ]
  },
  {
   "cell_type": "code",
   "execution_count": null,
   "metadata": {},
   "outputs": [],
   "source": [
    "img"
   ]
  },
  {
   "cell_type": "code",
   "execution_count": null,
   "metadata": {},
   "outputs": [],
   "source": [
    "import matplotlib.pyplot as plt\n",
    "\n",
    "plt.imshow(img)"
   ]
  },
  {
   "cell_type": "markdown",
   "metadata": {},
   "source": [
    "## GAMBAR YANG BIASA KITA KENAL -> RGB\n",
    "## OPENCV -> BGR"
   ]
  },
  {
   "cell_type": "code",
   "execution_count": 59,
   "metadata": {},
   "outputs": [],
   "source": [
    "image_rgb = cv2.cvtColor(img, cv2.COLOR_BGR2RGB)\n"
   ]
  },
  {
   "cell_type": "code",
   "execution_count": null,
   "metadata": {},
   "outputs": [],
   "source": [
    "plt.imshow(image_rgb)"
   ]
  },
  {
   "cell_type": "markdown",
   "metadata": {},
   "source": [
    "### Gamar Grayscale"
   ]
  },
  {
   "cell_type": "code",
   "execution_count": 61,
   "metadata": {},
   "outputs": [],
   "source": [
    "image_gray = cv2.cvtColor(img, cv2.COLOR_BGR2GRAY)\n"
   ]
  },
  {
   "cell_type": "code",
   "execution_count": null,
   "metadata": {},
   "outputs": [],
   "source": [
    "image_gray.shape"
   ]
  },
  {
   "cell_type": "code",
   "execution_count": null,
   "metadata": {},
   "outputs": [],
   "source": [
    "plt.imshow(image_gray, \"gray\")"
   ]
  },
  {
   "cell_type": "code",
   "execution_count": null,
   "metadata": {},
   "outputs": [],
   "source": [
    "image_gray"
   ]
  },
  {
   "cell_type": "code",
   "execution_count": 71,
   "metadata": {},
   "outputs": [],
   "source": [
    "ret, binary_image = cv2.threshold(image_gray, 200, 255, cv2.THRESH_BINARY)\n"
   ]
  },
  {
   "cell_type": "code",
   "execution_count": null,
   "metadata": {},
   "outputs": [],
   "source": [
    "binary_image"
   ]
  },
  {
   "cell_type": "code",
   "execution_count": null,
   "metadata": {},
   "outputs": [],
   "source": [
    "plt.imshow(binary_image, 'gray')"
   ]
  },
  {
   "cell_type": "code",
   "execution_count": null,
   "metadata": {},
   "outputs": [],
   "source": [
    "img"
   ]
  },
  {
   "cell_type": "code",
   "execution_count": 74,
   "metadata": {},
   "outputs": [],
   "source": [
    "# Memisahkan setiap channel (Biru, Hijau, Merah)\n",
    "B, G, R = cv2.split(img)"
   ]
  },
  {
   "cell_type": "code",
   "execution_count": null,
   "metadata": {},
   "outputs": [],
   "source": [
    "plt.imshow(R, 'gray')"
   ]
  },
  {
   "cell_type": "code",
   "execution_count": 75,
   "metadata": {},
   "outputs": [],
   "source": [
    "ret_r, binary_image_r = cv2.threshold(R, 200, 255, cv2.THRESH_BINARY)\n"
   ]
  },
  {
   "cell_type": "code",
   "execution_count": null,
   "metadata": {},
   "outputs": [],
   "source": [
    "plt.imshow(binary_image_r,'gray')"
   ]
  },
  {
   "cell_type": "code",
   "execution_count": null,
   "metadata": {},
   "outputs": [],
   "source": [
    "ret_b, binary_image_b = cv2.threshold(B, 200, 255, cv2.THRESH_BINARY)\n",
    "plt.imshow(binary_image_b, 'gray')"
   ]
  },
  {
   "cell_type": "code",
   "execution_count": null,
   "metadata": {},
   "outputs": [],
   "source": [
    "ret_g, binary_image_g = cv2.threshold(G, 200, 255, cv2.THRESH_BINARY)\n",
    "plt.imshow(binary_image_g, 'gray')"
   ]
  },
  {
   "cell_type": "code",
   "execution_count": null,
   "metadata": {},
   "outputs": [],
   "source": [
    "fig, axes = plt.subplots(4, 1, figsize=(5, 10))  # 4 baris, 1 kolom\n",
    "\n",
    "\n",
    "# Menampilkan setiap gambar di subplot yang sesuai\n",
    "axes[0].imshow(img)\n",
    "axes[0].axis('off')  # Menonaktifkan axis\n",
    "axes[0].set_title('Image 1')\n",
    "\n",
    "axes[1].imshow(binary_image_r, 'gray')\n",
    "axes[1].axis('off')\n",
    "axes[1].set_title('Image 2')\n",
    "\n",
    "axes[2].imshow(binary_image_b, 'gray')\n",
    "axes[2].axis('off')\n",
    "axes[2].set_title('Image 3')\n",
    "\n",
    "axes[3].imshow(binary_image_g, 'gray')\n",
    "axes[3].axis('off')\n",
    "axes[3].set_title('Image 4')\n",
    "\n",
    "# Menampilkan semua gambar\n",
    "plt.tight_layout()\n",
    "plt.show()"
   ]
  },
  {
   "cell_type": "code",
   "execution_count": null,
   "metadata": {},
   "outputs": [],
   "source": [
    "binary_image_b"
   ]
  },
  {
   "cell_type": "code",
   "execution_count": null,
   "metadata": {},
   "outputs": [],
   "source": [
    "binary_image_b.shape"
   ]
  },
  {
   "cell_type": "code",
   "execution_count": null,
   "metadata": {},
   "outputs": [],
   "source": [
    "total_pixels = binary_image_b.size\n",
    "print(total_pixels)"
   ]
  },
  {
   "cell_type": "code",
   "execution_count": null,
   "metadata": {},
   "outputs": [],
   "source": [
    "import numpy as np\n",
    "black_pixel = np.sum(binary_image == 0)\n",
    "print(black_pixel)"
   ]
  },
  {
   "cell_type": "code",
   "execution_count": null,
   "metadata": {},
   "outputs": [],
   "source": [
    "\n",
    "\n",
    "# Menghitung persentase warna hitam\n",
    "total_pixels = (black_pixel / total_pixels) * 100\n",
    "print(total_pixels)"
   ]
  },
  {
   "cell_type": "code",
   "execution_count": null,
   "metadata": {},
   "outputs": [],
   "source": []
  },
  {
   "cell_type": "code",
   "execution_count": null,
   "metadata": {},
   "outputs": [],
   "source": [
    "img_mentah = cv2.imread(\"pisang_mentah.jpg\")\n",
    "plt.imshow(img_mentah)"
   ]
  },
  {
   "cell_type": "code",
   "execution_count": 96,
   "metadata": {},
   "outputs": [],
   "source": [
    "# Memisahkan setiap channel (Biru, Hijau, Merah)\n",
    "B, G, R = cv2.split(img_mentah)\n",
    "ret_mentah, binary_image_mentah = cv2.threshold(R, 200, 255, cv2.THRESH_BINARY)\n"
   ]
  },
  {
   "cell_type": "code",
   "execution_count": null,
   "metadata": {},
   "outputs": [],
   "source": [
    "plt.imshow(binary_image_mentah,'gray')"
   ]
  },
  {
   "cell_type": "code",
   "execution_count": null,
   "metadata": {},
   "outputs": [],
   "source": [
    "# Menghitung jumlah piksel hitam (nilai 0)\n",
    "total_pixels = binary_image_mentah.size\n",
    "black_pixels = np.sum(binary_image_mentah == 0)\n",
    "\n",
    "# Menghitung persentase warna hitam\n",
    "black_percentage = (black_pixels / total_pixels) * 100\n",
    "print(black_percentage)"
   ]
  }
 ],
 "metadata": {
  "kernelspec": {
   "display_name": ".venv",
   "language": "python",
   "name": "python3"
  },
  "language_info": {
   "codemirror_mode": {
    "name": "ipython",
    "version": 3
   },
   "file_extension": ".py",
   "mimetype": "text/x-python",
   "name": "python",
   "nbconvert_exporter": "python",
   "pygments_lexer": "ipython3",
   "version": "3.12.2"
  }
 },
 "nbformat": 4,
 "nbformat_minor": 2
}
