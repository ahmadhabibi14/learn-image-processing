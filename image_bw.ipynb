{
 "cells": [
  {
   "cell_type": "code",
   "execution_count": null,
   "metadata": {},
   "outputs": [],
   "source": [
    "import cv2\n",
    "from cv2 import typing\n",
    "import numpy as np\n",
    "import matplotlib.pyplot as plt\n",
    "\n",
    "# Membaca citra digital dari file gambar\n",
    "citra: typing.MatLike = cv2.imread(\"img/ak-hacker-baik.jpg\")\n",
    "\n",
    "# Membaca channel warna BGR dan menyimpannya ke dalam variable terpisah\n",
    "b = citra[:, :, 0]\n",
    "g = citra[:, :, 1]\n",
    "r = citra[:, :, 2]\n",
    "\n",
    "# citra_gray = cv2.cvtColor(citra, cv2.COLOR_BGR2GRAY)\n",
    "# cv2.imshow(\"Hacker Baik - rgb\", citra)\n",
    "# cv2.imshow(\"Hacker Baik - gray\", citra_gray)\n",
    "\n",
    "# Menyimpan jumlah baris dan kolom\n",
    "total_row = len(citra)\n",
    "total_col = len(citra[0])\n",
    "\n",
    "# Citra baru dengan nilai 0\n",
    "citra_gray = np.zeros((total_row, total_col))\n",
    "\n",
    "for row in range(total_row):\n",
    "  for col in range(total_col):\n",
    "    citra_gray[row, col] = round(0.299 * r[row, col] + 0.587 * g[row, col] + 0.114 * b[row, col])\n",
    "\n",
    "citra_gray = citra_gray.astype(np.uint8)\n",
    "\n",
    "plt.imshow(citra_gray)\n",
    "plt.show()"
   ]
  }
 ],
 "metadata": {
  "kernelspec": {
   "display_name": ".venv",
   "language": "python",
   "name": "python3"
  },
  "language_info": {
   "codemirror_mode": {
    "name": "ipython",
    "version": 3
   },
   "file_extension": ".py",
   "mimetype": "text/x-python",
   "name": "python",
   "nbconvert_exporter": "python",
   "pygments_lexer": "ipython3",
   "version": "3.11.9"
  }
 },
 "nbformat": 4,
 "nbformat_minor": 2
}
