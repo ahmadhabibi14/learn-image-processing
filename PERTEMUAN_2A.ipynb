{
 "cells": [
  {
   "cell_type": "code",
   "execution_count": null,
   "metadata": {},
   "outputs": [],
   "source": [
    "# Pertemuan 2 Pengolahan citra digital"
   ]
  },
  {
   "cell_type": "code",
   "execution_count": null,
   "metadata": {},
   "outputs": [],
   "source": [
    "import numpy as np\n",
    "import matplotlib.pyplot as plt\n",
    "import cv2\n",
    "\n",
    "# Generate mountain range data\n",
    "x = np.linspace(0, 10, 100)\n",
    "y = np.sin(x) * 2 + np.abs(np.random.normal(scale=0.5, size=x.shape)) + 3  # Simulated mountain range\n",
    "\n",
    "# Create the figure and plot\n",
    "fig, ax = plt.subplots()\n",
    "ax.plot(x, y, color='brown')\n",
    "\n",
    "# Add a background for sky and ground using OpenCV\n",
    "# Create a canvas of 500x500 pixels\n",
    "canvas = np.zeros((500, 500, 3), dtype=\"uint8\")\n",
    "\n",
    "# Color the top part of the image (sky)\n",
    "canvas[:250] = (135, 206, 235)  # Sky blue\n",
    "\n",
    "# Color the bottom part of the image (ground)\n",
    "canvas[250:] = (34, 139, 34)  # Forest green\n",
    "\n",
    "# Convert the matplotlib plot to an image\n",
    "fig.canvas.draw()\n",
    "image = np.frombuffer(fig.canvas.tostring_rgb(), dtype=np.uint8)\n",
    "image = image.reshape(fig.canvas.get_width_height()[::-1] + (3,))\n",
    "\n",
    "# Resize the plot image to fit in the canvas\n",
    "plot_resized = cv2.resize(image, (500, 250))\n",
    "\n",
    "# Place the plot in the sky portion of the canvas\n",
    "canvas[:250] = plot_resized\n",
    "\n",
    "# Convert from BGR to RGB for displaying in matplotlib\n",
    "canvas_rgb = cv2.cvtColor(canvas, cv2.COLOR_BGR2RGB)\n",
    "\n",
    "# Display the final image\n",
    "plt.imshow(canvas_rgb)\n",
    "plt.axis('off')  # Hide axes for a cleaner image\n",
    "plt.show()\n"
   ]
  },
  {
   "cell_type": "code",
   "execution_count": null,
   "metadata": {},
   "outputs": [],
   "source": [
    "import cv2\n",
    "from cv2 import typing\n",
    "\n",
    "citra: typing.MatLike = cv2.imread('taka.jpeg')\n",
    "\n",
    "cv2.imshow('Taka', citra)\n",
    "cv2.waitKey(0)"
   ]
  },
  {
   "cell_type": "code",
   "execution_count": null,
   "metadata": {},
   "outputs": [],
   "source": [
    "import cv2\n",
    "from cv2 import typing\n",
    "\n",
    "citra: typing.MatLike = cv2.imread('taka.jpeg')\n",
    "citra.shape\n",
    "\n",
    "image_gray = cv2.cvtColor(citra, cv2.COLOR_GRAY2BGR)\n",
    "\n",
    "cv2.imshow('Taka Gray', image_gray)\n",
    "cv2.waitKey(0)"
   ]
  },
  {
   "cell_type": "code",
   "execution_count": null,
   "metadata": {},
   "outputs": [],
   "source": [
    "# Person detection\n",
    "\n",
    "hog = cv2.HOGDescriptor()\n",
    "hog.setSVMDetector(\n",
    "  cv2.HOGDescriptor_getDefaultPeopleDetector()\n",
    ")\n",
    "\n",
    "image = cv2.imread('taka.jpeg')\n",
    "\n",
    "(rects, weights) = hog.detectMultiScale(\n",
    "  image, winStride=(4, 4), padding=(8, 8), scale=1.05\n",
    ")\n",
    "\n",
    "for (x, y, w, h) in rects:\n",
    "  cv2.rectangle(image, (x, y), (x + w, y + h), (0, 255, 0), 2)\n",
    "\n",
    "cv2.imshow(\"Person Detection\", image)\n",
    "cv2.waitKey(0)\n",
    "cv2.destroyAllWindows()"
   ]
  },
  {
   "cell_type": "code",
   "execution_count": null,
   "metadata": {},
   "outputs": [],
   "source": [
    "# Change skin\n",
    "\n",
    "import numpy as np\n",
    "import cv2\n",
    "\n",
    "hog = cv2.HOGDescriptor()\n",
    "hog.setSVMDetector(\n",
    "  cv2.HOGDescriptor_getDefaultPeopleDetector()\n",
    ")\n",
    "\n",
    "image = cv2.imread('taka.jpeg')\n",
    "\n",
    "(rects, weights) = hog.detectMultiScale(\n",
    "  image, winStride=(4, 4), padding=(8, 8), scale=1.05\n",
    ")\n",
    "\n",
    "for (x, y, w, h) in rects:\n",
    "  person_roi = image[y:y+h, x:x+w]\n",
    "\n",
    "  hsv = cv2.cvtColor(person_roi, cv2.COLOR_BGR2HSV)\n",
    "\n",
    "  lower_skin = np.array([0, 20, 70], dtype=np.uint8)\n",
    "  upper_skin = np.array([20, 255, 255], dtype=np.uint8)\n",
    "\n",
    "  skin_mask = cv2.inRange(hsv, lower_skin, upper_skin)\n",
    "\n",
    "  hsv[skin_mask > 0, 2] = hsv[skin_mask > 0, 2] * 0.5\n",
    "\n",
    "  modified_person_roi = cv2.cvtColor(hsv, cv2.COLOR_HSV2BGR)\n",
    "\n",
    "  image[y:y+h, x:x+w] = modified_person_roi\n",
    "\n",
    "cv2.imshow(\"Modified Skin Tone\", image)\n",
    "cv2.waitKey(0)\n",
    "cv2.destroyAllWindows()"
   ]
  }
 ],
 "metadata": {
  "kernelspec": {
   "display_name": "Python 3",
   "language": "python",
   "name": "python3"
  },
  "language_info": {
   "codemirror_mode": {
    "name": "ipython",
    "version": 3
   },
   "file_extension": ".py",
   "mimetype": "text/x-python",
   "name": "python",
   "nbconvert_exporter": "python",
   "pygments_lexer": "ipython3",
   "version": "3.11.6"
  }
 },
 "nbformat": 4,
 "nbformat_minor": 2
}
