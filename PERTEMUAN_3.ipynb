{
 "cells": [
  {
   "cell_type": "markdown",
   "metadata": {},
   "source": [
    "# Pertemuan 3\n",
    "## Operasi Brighness\n",
    "Operasi titik brightness pada gambar merupakan salah satu metode manipulasi citra yang digunakan untuk meningkatkan atau mengurangi kecerahan setiap piksel dalam sebuah gambar. Pada umumnya, operasi ini dilakukan dengan menambahkan atau mengurangi nilai brightness pada setiap piksel.\n"
   ]
  },
  {
   "cell_type": "code",
   "execution_count": null,
   "metadata": {},
   "outputs": [],
   "source": [
    "import cv2 # library untuk operasi gambar\n",
    "import numpy as np # Operasi Array 2 Dimensional pada gambar\n",
    "import matplotlib.pyplot as plt # Untuk Visualisasi\n",
    "\n",
    "# Input\n",
    "# Membaca gambar\n",
    "img = cv2.imread('lena.jpg')\n",
    "\n",
    "# Mengubah warna gambar dari **BGR (OpenCV) ke RGB** (untuk matplotlib)\n",
    "img_rgb = cv2.cvtColor(img, cv2.COLOR_BGR2RGB)\n",
    "\n",
    "# Proses\n",
    "# Menambahkan nilai brightness\n",
    "# pixe (x,y) = 10 -> 60 -> 0\n",
    "brightness_value = 50  # Nilai brightness yang ingin ditambahkan (dapat negatif juga)\n",
    "\n",
    "# Output\n",
    "bright_img = cv2.convertScaleAbs(img, alpha=1, beta=brightness_value)\n",
    "\n",
    "\n",
    "# Visualisasi\n",
    "# Mengubah gambar yang telah di-brighten ke RGB\n",
    "bright_img_rgb = cv2.cvtColor(bright_img, cv2.COLOR_BGR2RGB)\n",
    "\n",
    "\n",
    "\n",
    "# Menampilkan gambar asli dan gambar yang diubah brightness-nya\n",
    "plt.figure(figsize=(10, 5))\n",
    "\n",
    "# Gambar asli\n",
    "plt.subplot(1, 2, 1)\n",
    "plt.imshow(img_rgb)\n",
    "plt.title('Original Image')\n",
    "plt.axis('off')  # Menghilangkan axis\n",
    "\n",
    "# Gambar dengan brightness ditambahkan\n",
    "plt.subplot(1, 2, 2)\n",
    "plt.imshow(bright_img_rgb)\n",
    "plt.title(f'Brightened Image (Brightness +{brightness_value})')\n",
    "plt.axis('off')\n",
    "\n",
    "# Menampilkan hasil\n",
    "plt.tight_layout()\n",
    "plt.show()\n"
   ]
  },
  {
   "cell_type": "code",
   "execution_count": null,
   "metadata": {},
   "outputs": [],
   "source": [
    "img"
   ]
  },
  {
   "cell_type": "code",
   "execution_count": null,
   "metadata": {},
   "outputs": [],
   "source": [
    "bright_img"
   ]
  },
  {
   "cell_type": "markdown",
   "metadata": {},
   "source": [
    "# Operasi Titik Negative\n",
    "Operasi titik negatif pada gambar adalah transformasi di mana setiap piksel gambar diubah menjadi nilai negatifnya. Pada gambar grayscale, ini dapat dilakukan dengan mengurangkan nilai intensitas piksel dari nilai maksimum (misalnya, 255). Untuk gambar berwarna (RGB), operasi negatif dilakukan pada setiap kanal warna secara independen."
   ]
  },
  {
   "cell_type": "markdown",
   "metadata": {},
   "source": [
    "rentang nilai intensitas pixel 0 - 255 / 8 BIT\n",
    "Gamabr(x,y) = 20\n",
    "gamabrnegatif = 20 - 255 = -235"
   ]
  },
  {
   "cell_type": "code",
   "execution_count": null,
   "metadata": {},
   "outputs": [],
   "source": [
    "# Membuat array 2 dimensi dengan nilai yang diberikan\n",
    "array_2d = np.array([\n",
    "    [30, 60, 80],\n",
    "    [120, 150, 170],\n",
    "    [200, 230, 240]\n",
    "])\n",
    "\n",
    "# Menampilkan array\n",
    "print(array_2d)"
   ]
  },
  {
   "cell_type": "code",
   "execution_count": null,
   "metadata": {},
   "outputs": [],
   "source": [
    "plt.imshow(array_2d, 'gray')"
   ]
  },
  {
   "cell_type": "code",
   "execution_count": null,
   "metadata": {},
   "outputs": [],
   "source": [
    "array_2d - 255 # 255 adalah nilai maksimal pada intensitas pixel pada gambar"
   ]
  },
  {
   "cell_type": "code",
   "execution_count": null,
   "metadata": {},
   "outputs": [],
   "source": [
    "plt.imshow(array_2d, 'gray')"
   ]
  },
  {
   "cell_type": "code",
   "execution_count": null,
   "metadata": {},
   "outputs": [],
   "source": [
    "import cv2\n",
    "import numpy as np\n",
    "import matplotlib.pyplot as plt\n",
    "\n",
    "# INPUT\n",
    "# Membaca gambar\n",
    "img = cv2.imread('lena.jpg')\n",
    "\n",
    "# Mengubah gambar menjadi negatif\n",
    "\n",
    "#OUTPUT : negative_img\n",
    "negative_img = cv2.bitwise_not(img)  # Fungsi untuk membalikkan warna (operasi negatif)\n",
    "\n",
    "# Mengubah gambar asli dan gambar negatif ke format RGB untuk visualisasi dengan matplotlib\n",
    "img_rgb = cv2.cvtColor(img, cv2.COLOR_BGR2RGB)\n",
    "negative_img_rgb = cv2.cvtColor(negative_img, cv2.COLOR_BGR2RGB)\n",
    "\n",
    "# Menampilkan gambar asli dan gambar negatif\n",
    "plt.figure(figsize=(10, 5))\n",
    "\n",
    "# Gambar asli\n",
    "plt.subplot(1, 2, 1)\n",
    "plt.imshow(img_rgb)\n",
    "plt.title('Original Image')\n",
    "plt.axis('off')\n",
    "\n",
    "# Gambar negatif\n",
    "plt.subplot(1, 2, 2)\n",
    "plt.imshow(negative_img_rgb)\n",
    "plt.title('Negative Image')\n",
    "plt.axis('off')\n",
    "\n",
    "# Menampilkan hasil\n",
    "plt.tight_layout()\n",
    "plt.show()\n"
   ]
  },
  {
   "cell_type": "code",
   "execution_count": null,
   "metadata": {},
   "outputs": [],
   "source": [
    "print(img.shape)\n",
    "img_resize = cv2.resize(img, (256, 256))\n",
    "print(img_resize.shape)"
   ]
  },
  {
   "cell_type": "code",
   "execution_count": null,
   "metadata": {},
   "outputs": [],
   "source": [
    "# Menampilkan gambar asli dan gambar negatif\n",
    "plt.figure(figsize=(10, 5))\n",
    "\n",
    "# Gambar asli\n",
    "plt.subplot(1, 2, 1)\n",
    "plt.imshow(img_rgb)\n",
    "plt.title('Original Image')\n",
    "plt.axis('off')\n",
    "\n",
    "# Gambar negatif\n",
    "plt.subplot(1, 2, 2)\n",
    "plt.imshow(negative_img_rgb)\n",
    "plt.title('Negative Image')\n",
    "plt.axis('off')\n",
    "\n",
    "# Menampilkan hasil\n",
    "plt.tight_layout()\n",
    "plt.show()"
   ]
  },
  {
   "cell_type": "markdown",
   "metadata": {},
   "source": [
    "## Blending : MENGGABUNKAN DUA GAMBAR"
   ]
  },
  {
   "cell_type": "code",
   "execution_count": null,
   "metadata": {},
   "outputs": [],
   "source": [
    "import cv2\n",
    "import numpy as np\n",
    "import matplotlib.pyplot as plt\n",
    "\n",
    "# Membaca dua gambar yang akan di-blend\n",
    "img1 = cv2.imread('1.png')\n",
    "img2 = cv2.imread('2.jpg')\n",
    "\n",
    "# Memastikan kedua gambar memiliki ukuran yang sama\n",
    "img1 = cv2.resize(img1, (512, 512))\n",
    "img2 = cv2.resize(img2, (512, 512))\n",
    "\n",
    "# Mengatur nilai alpha dan beta untuk blending\n",
    "alpha = 0.5  # Proporsi gambar pertama\n",
    "beta = 1 - alpha  # Proporsi gambar kedua\n",
    "\n",
    "# Melakukan blending dengan menggunakan cv2.addWeighted\n",
    "blended_img = cv2.addWeighted(img1, alpha, img2, beta, 0)\n",
    "\n",
    "# Mengubah gambar-gambar ke format RGB untuk visualisasi dengan matplotlib\n",
    "img1_rgb = cv2.cvtColor(img1, cv2.COLOR_BGR2RGB)\n",
    "img2_rgb = cv2.cvtColor(img2, cv2.COLOR_BGR2RGB)\n",
    "blended_img_rgb = cv2.cvtColor(blended_img, cv2.COLOR_BGR2RGB)\n",
    "\n",
    "# Menampilkan gambar asli dan hasil blending\n",
    "plt.figure(figsize=(15, 5))\n",
    "\n",
    "# Gambar pertama\n",
    "plt.subplot(1, 3, 1)\n",
    "plt.imshow(img1_rgb)\n",
    "plt.title('Image 1')\n",
    "plt.axis('off')\n",
    "\n",
    "# Gambar kedua\n",
    "plt.subplot(1, 3, 2)\n",
    "plt.imshow(img2_rgb)\n",
    "plt.title('Image 2')\n",
    "plt.axis('off')\n",
    "\n",
    "# Gambar hasil blending\n",
    "plt.subplot(1, 3, 3)\n",
    "plt.imshow(blended_img_rgb)\n",
    "plt.title(f'Blended Image (alpha={alpha}, beta={beta})')\n",
    "plt.axis('off')\n",
    "\n",
    "# Menampilkan hasil\n",
    "plt.tight_layout()\n",
    "plt.show()\n"
   ]
  },
  {
   "cell_type": "code",
   "execution_count": null,
   "metadata": {},
   "outputs": [],
   "source": []
  },
  {
   "cell_type": "code",
   "execution_count": null,
   "metadata": {},
   "outputs": [],
   "source": [
    "import cv2\n",
    "import numpy as np\n",
    "import matplotlib.pyplot as plt\n",
    "\n",
    "# Membaca gambar\n",
    "img = cv2.imread('lena.jpg')\n",
    "\n",
    "# Mengonversi gambar ke grayscale\n",
    "gray_img = cv2.cvtColor(img, cv2.COLOR_BGR2GRAY)\n",
    "\n",
    "# Menormalisasi gambar ke rentang 0-255\n",
    "gray_img = gray_img / 255.0\n",
    "\n",
    "# Mengatur nilai konstanta c (misalnya 1)\n",
    "c = 100\n",
    "\n",
    "# Menerapkan operasi logaritmik pada gambar\n",
    "log_img = c * np.log(1 + gray_img)\n",
    "\n",
    "# Menormalisasi kembali hasil ke rentang 0-255 dan mengonversi ke tipe uint8\n",
    "log_img = np.uint8(255 * log_img / np.max(log_img))\n",
    "\n",
    "# Menampilkan gambar asli dan gambar logaritmik\n",
    "plt.figure(figsize=(10, 5))\n",
    "\n",
    "# Gambar asli\n",
    "plt.subplot(1, 2, 1)\n",
    "plt.imshow(gray_img, cmap='gray')\n",
    "plt.title('Original Grayscale Image')\n",
    "plt.axis('off')\n",
    "\n",
    "# Gambar hasil operasi logaritmik\n",
    "plt.subplot(1, 2, 2)\n",
    "plt.imshow(log_img, cmap='gray')\n",
    "plt.title('Logarithmic Transformed Image')\n",
    "plt.axis('off')\n",
    "\n",
    "# Menampilkan hasil\n",
    "plt.tight_layout()\n",
    "plt.show()\n"
   ]
  }
 ],
 "metadata": {
  "kernelspec": {
   "display_name": ".venv",
   "language": "python",
   "name": "python3"
  },
  "language_info": {
   "codemirror_mode": {
    "name": "ipython",
    "version": 3
   },
   "file_extension": ".py",
   "mimetype": "text/x-python",
   "name": "python",
   "nbconvert_exporter": "python",
   "pygments_lexer": "ipython3",
   "version": "3.12.2"
  }
 },
 "nbformat": 4,
 "nbformat_minor": 2
}
