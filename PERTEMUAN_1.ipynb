{
 "cells": [
  {
   "cell_type": "markdown",
   "metadata": {},
   "source": [
    "##### MATERI KULIAH PCD\n",
    "Pertemuan 1: Pengenalan Citra Digital dan Warna <br>\n",
    "Pertemuan 2: Citra Digital, Sampling, dan Kuantisasi <br>\n",
    "Pertemuan 3: Operasi Titik (Brightness, Negative, Blending, Logaritmik, Power Law)\n",
    "Pertemuan 4: Operasi Geometri Bagian 1 (Rotasi dan Flipping)\n",
    "Pertemuan 5: Operasi Geometri Bagian 2 (Resampling dan Scaling)\n",
    "Pertemuan 6: Operasi Titik Lanjutan dan Persiapan Ujian Tengah Semester\n",
    "Pertemuan 7: Ujian Tengah Semester\n",
    "Pertemuan 8: Operasi Tetangga: Filtering Bagian 1 (Median, Mean)\n",
    "Pertemuan 9: Operasi Tetangga: Filtering Bagian 2 (Konvolusi)\n",
    "Pertemuan 10: Filter Low dan High Pass Bagian 1 (Edge Detector)\n",
    "Pertemuan 11: Filter Low dan High Pass Bagian 2 (Gaussian, Smoothing, Blurring)\n",
    "Pertemuan 12: Operasi Morfologi Bagian 1 (Erosi, Dilasi)\n",
    "Pertemuan 13: Operasi Morfologi Bagian 2 (Opening, Closing)\n",
    "Pertemuan 14: Ruang Warna dan Segmentasi Warna\n",
    "Projek : Menghitung Objek pada gambg"
   ]
  },
  {
   "cell_type": "markdown",
   "metadata": {},
   "source": [
    "# Pertemuan 1: Pengenalan Citra Digital dan Warna"
   ]
  },
  {
   "cell_type": "markdown",
   "metadata": {},
   "source": [
    "#### 1. Intall Library dasar untuk PCD"
   ]
  },
  {
   "cell_type": "code",
   "execution_count": 1,
   "metadata": {},
   "outputs": [],
   "source": [
    "import numpy as np\n",
    "import matplotlib.pyplot as plt\n"
   ]
  },
  {
   "cell_type": "markdown",
   "metadata": {},
   "source": []
  },
  {
   "cell_type": "code",
   "execution_count": null,
   "metadata": {},
   "outputs": [],
   "source": [
    "# Membuat array 2 dimensi dengan nilai yang diberikan\n",
    "array_2d = np.array([\n",
    "    [30, 60, 80],\n",
    "    [120, 150, 170],\n",
    "    [200, 230, 240]\n",
    "])\n",
    "\n",
    "# Menampilkan array\n",
    "print(array_2d)"
   ]
  },
  {
   "cell_type": "code",
   "execution_count": null,
   "metadata": {},
   "outputs": [],
   "source": [
    "plt.imshow(array_2d, 'gray')"
   ]
  },
  {
   "cell_type": "code",
   "execution_count": null,
   "metadata": {},
   "outputs": [],
   "source": [
    "# Membuat array 2 dimensi dengan nilai yang diberikan\n",
    "layer_R = np.array([\n",
    "    [20, 60, 80],\n",
    "    [120, 200, 170],\n",
    "    [200, 230, 220]\n",
    "])\n",
    "\n",
    "plt.imshow(layer_R, 'gray')"
   ]
  },
  {
   "cell_type": "code",
   "execution_count": null,
   "metadata": {},
   "outputs": [],
   "source": [
    "# Membuat array 2 dimensi dengan nilai yang diberikan\n",
    "layer_G = np.array([\n",
    "    [80, 60, 80],\n",
    "    [120, 30, 170],\n",
    "    [200, 230, 150]\n",
    "])\n",
    "\n",
    "plt.imshow(layer_R, 'gray')"
   ]
  },
  {
   "cell_type": "code",
   "execution_count": null,
   "metadata": {},
   "outputs": [],
   "source": [
    "# Membuat array 2 dimensi dengan nilai yang diberikan\n",
    "layer_B = np.array([\n",
    "    [200, 60, 80],\n",
    "    [120, 200, 170],\n",
    "    [200, 230, 50]\n",
    "])\n",
    "\n",
    "plt.imshow(layer_R, 'gray')"
   ]
  },
  {
   "cell_type": "code",
   "execution_count": null,
   "metadata": {},
   "outputs": [],
   "source": [
    "# Menggabungkan layer R, G, B menjadi satu gambar warna\n",
    "gabungan_layer = np.stack((layer_R, layer_G, layer_B), axis=-1)\n",
    "plt.imshow(gabungan_layer)\n",
    "plt.title(\"Gambar Warna dari Array R, G, B\")\n",
    "plt.show()"
   ]
  },
  {
   "cell_type": "code",
   "execution_count": null,
   "metadata": {},
   "outputs": [],
   "source": [
    "import numpy as np\n",
    "import matplotlib.pyplot as plt\n",
    "\n",
    "# Membuat array 2D 3x3 untuk layer R, G, B\n",
    "R = np.array([\n",
    "    [255, 30, 0],\n",
    "    [0, 255, 0],\n",
    "    [0, 0, 255]\n",
    "])\n",
    "\n",
    "G = np.array([\n",
    "    [0, 30, 0],\n",
    "    [255, 0, 0],\n",
    "    [0, 0, 255]\n",
    "])\n",
    "\n",
    "B = np.array([\n",
    "    [0, 30, 255],\n",
    "    [0, 255, 0],\n",
    "    [255, 0, 0]\n",
    "])\n",
    "\n",
    "# Menggabungkan layer R, G, B menjadi satu gambar warna\n",
    "image = np.stack((R, G, B), axis=-1)\n",
    "\n",
    "# Menampilkan gambar warna menggunakan matplotlib\n",
    "plt.imshow(image)\n",
    "plt.title(\"Gambar Warna dari Array R, G, B\")\n",
    "plt.show()\n"
   ]
  },
  {
   "cell_type": "markdown",
   "metadata": {},
   "source": [
    "# MELUKIS DENGAN ANGKA UKURANNYA 10X10"
   ]
  },
  {
   "cell_type": "code",
   "execution_count": null,
   "metadata": {},
   "outputs": [],
   "source": [
    "\n",
    "import numpy as np\n",
    "import matplotlib.pyplot as plt\n",
    "\n",
    "# Membuat array 2 dimensi 10x10\n",
    "image = np.zeros((10, 10, 3), dtype=int)\n",
    "\n",
    "# Menggambar matahari (warna kuning)\n",
    "image[1:3, 7:9] = [255, 255, 0]\n",
    "\n",
    "# Menggambar gunung (warna hijau)\n",
    "for i in range(5, 10):\n",
    "    for j in range(10 - i, i):\n",
    "        image[i, j] = [0, 255, 0]\n",
    "\n",
    "# Menampilkan gambar menggunakan matplotlib\n",
    "plt.imshow(image)\n",
    "plt.title(\"Gunung dan Matahari\")\n",
    "plt.show()\n"
   ]
  }
 ],
 "metadata": {
  "kernelspec": {
   "display_name": ".venv",
   "language": "python",
   "name": "python3"
  },
  "language_info": {
   "codemirror_mode": {
    "name": "ipython",
    "version": 3
   },
   "file_extension": ".py",
   "mimetype": "text/x-python",
   "name": "python",
   "nbconvert_exporter": "python",
   "pygments_lexer": "ipython3",
   "version": "3.11.9"
  }
 },
 "nbformat": 4,
 "nbformat_minor": 2
}
